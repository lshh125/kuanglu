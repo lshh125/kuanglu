{
 "cells": [
  {
   "cell_type": "markdown",
   "id": "8acc61ff",
   "metadata": {},
   "source": [
    "## Methods to compare in integration tasks\n",
    "\n",
    "Harmony and Liger are widely-used data integration / batch effect correction methods that have Python implementations. Harmony is usually considered to be less aggressive in strength, thus keeping more biological variance. Liger is suitable in situations with more severe batch effect."
   ]
  },
  {
   "cell_type": "code",
   "execution_count": 1,
   "id": "61c5cc9f",
   "metadata": {},
   "outputs": [],
   "source": [
    "import scanpy as sc\n",
    "import sklearn as skl\n",
    "import pandas as pd\n",
    "import matplotlib.pyplot as plt\n",
    "import pickle as pkl"
   ]
  },
  {
   "cell_type": "code",
   "execution_count": 2,
   "id": "613db54a",
   "metadata": {},
   "outputs": [],
   "source": [
    "# Some utilities does not work on Windows. Consider using WSL2 on a Windows machine.\n",
    "# Known probablematic ones: scib.me.clisi_graph\n",
    "import scib"
   ]
  },
  {
   "cell_type": "code",
   "execution_count": 3,
   "id": "fb51871e",
   "metadata": {},
   "outputs": [],
   "source": [
    "from tqdm import tqdm"
   ]
  },
  {
   "cell_type": "code",
   "execution_count": 4,
   "id": "1d81a664",
   "metadata": {},
   "outputs": [],
   "source": [
    "import matplotlib as mpl"
   ]
  },
  {
   "cell_type": "markdown",
   "id": "263e98ae",
   "metadata": {},
   "source": [
    "## Load data and view the data without integration"
   ]
  },
  {
   "cell_type": "code",
   "execution_count": 5,
   "id": "3fee8cb1",
   "metadata": {},
   "outputs": [],
   "source": [
    "adata = sc.read_h5ad('output/mouse-brain-374-integration.h5ad')"
   ]
  },
  {
   "cell_type": "code",
   "execution_count": 6,
   "id": "a11f66c8",
   "metadata": {},
   "outputs": [],
   "source": [
    "with open(\"output/mouse-brain-374-kuanglu-emb.pkl\", 'rb') as f:\n",
    "    adata.obsm['X_kuanglu'] = pkl.load(f)"
   ]
  },
  {
   "cell_type": "markdown",
   "id": "e2f21297",
   "metadata": {},
   "source": [
    "## Scoring and plotting "
   ]
  },
  {
   "cell_type": "code",
   "execution_count": 7,
   "id": "d5659eb9",
   "metadata": {},
   "outputs": [
    {
     "data": {
      "text/plain": [
       "Index(['fov', 'center_x', 'center_y', 'min_x', 'max_x', 'min_y', 'max_y',\n",
       "       'age', 'clust_annot', 'slice', 'organism_ontology_term_id',\n",
       "       'sex_ontology_term_id', 'suspension_type', 'cell_type_ontology_term_id',\n",
       "       'assay_ontology_term_id', 'tissue_ontology_term_id',\n",
       "       'disease_ontology_term_id', 'self_reported_ethnicity_ontology_term_id',\n",
       "       'development_stage_ontology_term_id', 'donor_id', 'is_primary_data',\n",
       "       'cell_type_annot', 'cell_type', 'assay', 'disease', 'organism', 'sex',\n",
       "       'tissue', 'self_reported_ethnicity', 'development_stage',\n",
       "       'donor_slice'],\n",
       "      dtype='object')"
      ]
     },
     "execution_count": 7,
     "metadata": {},
     "output_type": "execute_result"
    }
   ],
   "source": [
    "adata.obs.columns"
   ]
  },
  {
   "cell_type": "code",
   "execution_count": 8,
   "id": "baa25cf7",
   "metadata": {},
   "outputs": [],
   "source": [
    "batch = 'donor_slice'\n",
    "label = 'cell_type'"
   ]
  },
  {
   "cell_type": "code",
   "execution_count": 9,
   "id": "138a57a4",
   "metadata": {},
   "outputs": [
    {
     "name": "stdout",
     "output_type": "stream",
     "text": [
      "endothelial cell, astrocyte, oligodendrocyte, microglial cell, macrophage, inhibitory interneuron, neuron, pericyte, oligodendrocyte precursor cell, medium spiny neuron, vascular leptomeningeal cell\n"
     ]
    },
    {
     "name": "stderr",
     "output_type": "stream",
     "text": [
      "/home/lshh/miniconda3/envs/py39_scib/lib/python3.9/site-packages/pandas/core/indexes/multi.py:643: DeprecationWarning: `cumproduct` is deprecated as of NumPy 1.25.0, and will be removed in NumPy 2.0. Please use `cumprod` instead.\n",
      "  codes = cartesian_product(codes)\n",
      "/home/lshh/miniconda3/envs/py39_scib/lib/python3.9/site-packages/pandas/core/reshape/util.py:60: DeprecationWarning: `product` is deprecated as of NumPy 1.25.0, and will be removed in NumPy 2.0. Please use `prod` instead.\n",
      "  return [\n"
     ]
    }
   ],
   "source": [
    "ct = pd.crosstab(adata.obs[label], adata.obs[batch])\n",
    "abundant_cell_types = ct.index[ct.min(axis=1) >= 3].tolist()\n",
    "print(*abundant_cell_types, sep=', ')"
   ]
  },
  {
   "cell_type": "code",
   "execution_count": 10,
   "id": "e79afd75",
   "metadata": {},
   "outputs": [
    {
     "name": "stderr",
     "output_type": "stream",
     "text": [
      "/home/lshh/miniconda3/envs/py39_scib/lib/python3.9/site-packages/pandas/core/algorithms.py:522: DeprecationWarning: np.find_common_type is deprecated.  Please use `np.result_type` or `np.promote_types`.\n",
      "See https://numpy.org/devdocs/release/1.25.0-notes.html and the docs for more information.  (Deprecated NumPy 1.25)\n",
      "  common = np.find_common_type([values.dtype, comps_array.dtype], [])\n"
     ]
    }
   ],
   "source": [
    "adata = adata[adata.obs[label].isin(abundant_cell_types)]"
   ]
  },
  {
   "cell_type": "code",
   "execution_count": 11,
   "id": "46c8dd4f",
   "metadata": {},
   "outputs": [],
   "source": [
    "methods = ('liger', 'harmony', 'pca', 'scanorama', 'kuanglu')\n",
    "use_cosine = ['liger', 'scanorama']"
   ]
  },
  {
   "cell_type": "code",
   "execution_count": 13,
   "id": "b6b73081",
   "metadata": {
    "scrolled": true
   },
   "outputs": [
    {
     "name": "stderr",
     "output_type": "stream",
     "text": [
      "\r",
      "  0%|                                                                                             | 0/5 [00:00<?, ?it/s]"
     ]
    },
    {
     "name": "stdout",
     "output_type": "stream",
     "text": [
      "liger.."
     ]
    },
    {
     "name": "stderr",
     "output_type": "stream",
     "text": [
      "\r",
      " 20%|████████████████▏                                                                | 1/5 [21:49<1:27:18, 1309.61s/it]"
     ]
    },
    {
     "name": "stdout",
     "output_type": "stream",
     "text": [
      ".\n",
      "harmony."
     ]
    },
    {
     "name": "stderr",
     "output_type": "stream",
     "text": [
      "\r",
      " 40%|████████████████████████████████▍                                                | 2/5 [52:32<1:21:10, 1623.35s/it]"
     ]
    },
    {
     "name": "stdout",
     "output_type": "stream",
     "text": [
      "..\n",
      "pca."
     ]
    },
    {
     "name": "stderr",
     "output_type": "stream",
     "text": [
      "\r",
      " 60%|███████████████████████████████████████████████▍                               | 3/5 [1:33:33<1:06:51, 2005.97s/it]"
     ]
    },
    {
     "name": "stdout",
     "output_type": "stream",
     "text": [
      "..\n",
      "scanorama.."
     ]
    },
    {
     "name": "stderr",
     "output_type": "stream",
     "text": [
      "\r",
      " 80%|████████████████████████████████████████████████████████████████▊                | 4/5 [1:57:27<29:40, 1780.12s/it]"
     ]
    },
    {
     "name": "stdout",
     "output_type": "stream",
     "text": [
      ".\n",
      "kuanglu.."
     ]
    },
    {
     "name": "stderr",
     "output_type": "stream",
     "text": [
      "100%|█████████████████████████████████████████████████████████████████████████████████| 5/5 [2:22:01<00:00, 1704.31s/it]"
     ]
    },
    {
     "name": "stdout",
     "output_type": "stream",
     "text": [
      ".\n"
     ]
    },
    {
     "name": "stderr",
     "output_type": "stream",
     "text": [
      "\n"
     ]
    }
   ],
   "source": [
    "scores = {}\n",
    "\n",
    "for method in tqdm(methods):\n",
    "    matrix_name = 'X_' + method\n",
    "    print(method, end='')\n",
    "    s = skl.metrics.silhouette_score(adata.obsm[matrix_name], adata.obs[label])\n",
    "    print('.', end='')\n",
    "    db = skl.metrics.davies_bouldin_score(adata.obsm[matrix_name], adata.obs[label])\n",
    "    print('.', end='')\n",
    "    ch = skl.metrics.calinski_harabasz_score(adata.obsm[matrix_name], adata.obs[label])\n",
    "    print('.')\n",
    "    \n",
    "    scores[method] = [s, db, ch]"
   ]
  },
  {
   "cell_type": "code",
   "execution_count": 14,
   "id": "047e437d",
   "metadata": {},
   "outputs": [],
   "source": [
    "scores = pd.DataFrame(scores, index=['silhouette', 'davies_bouldin', 'calinski_harabasz']).T"
   ]
  },
  {
   "cell_type": "code",
   "execution_count": 15,
   "id": "310809ff",
   "metadata": {},
   "outputs": [
    {
     "data": {
      "text/html": [
       "<div>\n",
       "<style scoped>\n",
       "    .dataframe tbody tr th:only-of-type {\n",
       "        vertical-align: middle;\n",
       "    }\n",
       "\n",
       "    .dataframe tbody tr th {\n",
       "        vertical-align: top;\n",
       "    }\n",
       "\n",
       "    .dataframe thead th {\n",
       "        text-align: right;\n",
       "    }\n",
       "</style>\n",
       "<table border=\"1\" class=\"dataframe\">\n",
       "  <thead>\n",
       "    <tr style=\"text-align: right;\">\n",
       "      <th></th>\n",
       "      <th>silhouette</th>\n",
       "      <th>davies_bouldin</th>\n",
       "      <th>calinski_harabasz</th>\n",
       "    </tr>\n",
       "  </thead>\n",
       "  <tbody>\n",
       "    <tr>\n",
       "      <th>kuanglu</th>\n",
       "      <td>0.390646</td>\n",
       "      <td>1.555842</td>\n",
       "      <td>81715.920578</td>\n",
       "    </tr>\n",
       "    <tr>\n",
       "      <th>scanorama</th>\n",
       "      <td>0.371150</td>\n",
       "      <td>2.048746</td>\n",
       "      <td>64322.661638</td>\n",
       "    </tr>\n",
       "    <tr>\n",
       "      <th>harmony</th>\n",
       "      <td>0.277262</td>\n",
       "      <td>1.642676</td>\n",
       "      <td>44776.562436</td>\n",
       "    </tr>\n",
       "    <tr>\n",
       "      <th>liger</th>\n",
       "      <td>0.310450</td>\n",
       "      <td>1.599514</td>\n",
       "      <td>48785.303650</td>\n",
       "    </tr>\n",
       "    <tr>\n",
       "      <th>pca</th>\n",
       "      <td>0.252160</td>\n",
       "      <td>1.731469</td>\n",
       "      <td>38883.075352</td>\n",
       "    </tr>\n",
       "  </tbody>\n",
       "</table>\n",
       "</div>"
      ],
      "text/plain": [
       "           silhouette  davies_bouldin  calinski_harabasz\n",
       "kuanglu      0.390646        1.555842       81715.920578\n",
       "scanorama    0.371150        2.048746       64322.661638\n",
       "harmony      0.277262        1.642676       44776.562436\n",
       "liger        0.310450        1.599514       48785.303650\n",
       "pca          0.252160        1.731469       38883.075352"
      ]
     },
     "execution_count": 15,
     "metadata": {},
     "output_type": "execute_result"
    }
   ],
   "source": [
    "scores = scores.loc[['kuanglu', 'scanorama', 'harmony', 'liger', 'pca']]\n",
    "scores"
   ]
  },
  {
   "cell_type": "code",
   "execution_count": 16,
   "id": "8e3e8b31",
   "metadata": {},
   "outputs": [
    {
     "data": {
      "image/png": "[encoded data removed]",
      "text/plain": [
       "<Figure size 600x400 with 3 Axes>"
      ]
     },
     "metadata": {},
     "output_type": "display_data"
    }
   ],
   "source": [
    "cmap = mpl.colormaps['Blues']\n",
    "lower_is_better = ['davies_bouldin']\n",
    "plt.subplots(1, scores.shape[1], figsize=(6, 4))\n",
    "for i, v in enumerate(scores.columns):\n",
    "    plt.subplot(1, scores.shape[1], i + 1)\n",
    "    color = mpl.colormaps['Blues'](1 - scores[v].rank(ascending=v in lower_is_better, pct=True) * .66)\n",
    "    scores[v].plot(kind='bar', color=color)\n",
    "    plt.ylabel(v, size=12)\n",
    "    plt.grid(axis='y')\n",
    "    plt.yticks(size=10)\n",
    "    plt.xticks(rotation=45, ha='right', rotation_mode='anchor', size=12)\n",
    "    \n",
    "    dmin = scores[v].min()\n",
    "    dmax = scores[v].max()\n",
    "    \n",
    "    if dmin >= 0.0 and dmin <= 1.0 and dmax >= 0.0 and dmax <= 1.0:\n",
    "        for vmin in [0.99, 0.8, 0.6, 0.4, 0.2, 0.0]:\n",
    "            if dmin > vmin:\n",
    "                break\n",
    "        for vmax in [0.2, 0.4, 0.6, 0.8, 1.0]:\n",
    "            if dmax < vmax:\n",
    "                break\n",
    "        plt.ylim(vmin, vmax)\n",
    "        \n",
    "    if v in lower_is_better:\n",
    "        plt.gca().invert_yaxis()\n",
    "    \n",
    "plt.tight_layout()"
   ]
  },
  {
   "cell_type": "code",
   "execution_count": null,
   "id": "750cc4a4",
   "metadata": {},
   "outputs": [],
   "source": [
    "batch_scores = {}\n",
    "\n",
    "\n",
    "for method in tqdm(methods):\n",
    "    matrix_name = 'X_' + method\n",
    "    \n",
    "    if method in use_cosine:\n",
    "        sc.pp.neighbors(adata, use_rep=matrix_name, metric='cosine')\n",
    "    else:\n",
    "        sc.pp.neighbors(adata, use_rep=matrix_name)\n",
    "    \n",
    "    sb = scib.me.silhouette_batch(adata, batch_key=batch, label_key=label, embed=matrix_name)\n",
    "        \n",
    "    gcb = scib.me.graph_connectivity(adata, label_key=label)\n",
    "    \n",
    "    ilisi = scib.me.ilisi_graph(adata, batch_key=batch, type_=\"knn\")\n",
    "    \n",
    "    # kbet = scib.me.kBET(adata, batch_key=batch, label_key=label, type_=\"embed\", embed=matrix_name)\n",
    "    \n",
    "    batch_scores[method] = [sb, gcb, ilisi]"
   ]
  },
  {
   "cell_type": "code",
   "execution_count": null,
   "id": "6211cd02",
   "metadata": {},
   "outputs": [],
   "source": [
    "batch_scores = pd.DataFrame(batch_scores, index=['silhouette_batch', 'graph_connectivity_batch', 'ilisi']).T"
   ]
  },
  {
   "cell_type": "code",
   "execution_count": null,
   "id": "777cd665",
   "metadata": {},
   "outputs": [],
   "source": [
    "batch_scores = batch_scores.loc[['kuanglu', 'scanorama', 'harmony', 'liger', 'pca']]\n",
    "batch_scores"
   ]
  },
  {
   "cell_type": "code",
   "execution_count": null,
   "id": "9ab5a914",
   "metadata": {},
   "outputs": [],
   "source": [
    "lower_is_better = [] # ['silhouette_batch', 'graph_connectivity_batch', 'ilisi']\n",
    "\n",
    "plt.subplots(1, batch_scores.shape[1], figsize=(6, 4))\n",
    "for i, v in enumerate(batch_scores.columns):\n",
    "    plt.subplot(1, batch_scores.shape[1], i + 1)\n",
    "    color = mpl.colormaps['Blues'](1 - batch_scores[v].rank(ascending=v in lower_is_better, pct=True) * .66)\n",
    "    batch_scores[v].plot(kind='bar', color=color)\n",
    "    plt.ylabel(v, size=12)\n",
    "    plt.grid(axis='y')\n",
    "    plt.yticks(size=10)\n",
    "    plt.xticks(rotation=45, ha='right', rotation_mode='anchor', size=12)\n",
    "    \n",
    "    dmin = batch_scores[v].min()\n",
    "    dmax = batch_scores[v].max()\n",
    "    \n",
    "    if dmin >= 0.0 and dmin <= 1.0 and dmax >= 0.0 and dmax <= 1.0:\n",
    "        for vmin in [0.8, 0.6, 0.4, 0.2, 0.0]:\n",
    "            if dmin > vmin:\n",
    "                break\n",
    "        for vmax in [0.2, 0.4, 0.6, 0.8, 1.0]:\n",
    "            if dmax < vmax:\n",
    "                break\n",
    "        plt.ylim(vmin, vmax)\n",
    "    \n",
    "plt.tight_layout()"
   ]
  },
  {
   "cell_type": "code",
   "execution_count": null,
   "id": "eb1507a2",
   "metadata": {},
   "outputs": [],
   "source": [
    "with open(\"output/mouse-brain-374-judge.pkl\", 'wb') as f:\n",
    "    pkl.dump([scores, batch_scores], f)"
   ]
  }
 ],
 "metadata": {
  "kernelspec": {
   "display_name": "Python [conda env:py39_scib]",
   "language": "python",
   "name": "conda-env-py39_scib-py"
  },
  "language_info": {
   "codemirror_mode": {
    "name": "ipython",
    "version": 3
   },
   "file_extension": ".py",
   "mimetype": "text/x-python",
   "name": "python",
   "nbconvert_exporter": "python",
   "pygments_lexer": "ipython3",
   "version": "3.9.18"
  }
 },
 "nbformat": 4,
 "nbformat_minor": 5
}
